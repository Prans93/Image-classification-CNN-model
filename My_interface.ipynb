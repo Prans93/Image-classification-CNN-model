{
 "cells": [
  {
   "cell_type": "code",
   "execution_count": 1,
   "id": "1ae6ef30-f15e-4c8c-a3d8-4903407406b8",
   "metadata": {},
   "outputs": [
    {
     "data": {
      "text/plain": [
       "2"
      ]
     },
     "execution_count": 1,
     "metadata": {},
     "output_type": "execute_result"
    }
   ],
   "source": [
    "1+1"
   ]
  },
  {
   "cell_type": "code",
   "execution_count": 2,
   "id": "49b82d95-0e9b-4857-a95e-0278486032b5",
   "metadata": {},
   "outputs": [
    {
     "data": {
      "text/plain": [
       "3"
      ]
     },
     "execution_count": 2,
     "metadata": {},
     "output_type": "execute_result"
    }
   ],
   "source": [
    "4-1"
   ]
  },
  {
   "cell_type": "markdown",
   "id": "6c696594-5474-489e-8ce1-36b508d3eb28",
   "metadata": {},
   "source": [
    "6-8"
   ]
  },
  {
   "cell_type": "code",
   "execution_count": 6,
   "id": "52ef88fd-fb76-4b09-a1a6-6f21bddd7956",
   "metadata": {},
   "outputs": [
    {
     "data": {
      "text/plain": [
       "9"
      ]
     },
     "execution_count": 6,
     "metadata": {},
     "output_type": "execute_result"
    }
   ],
   "source": [
    "9-0\n"
   ]
  },
  {
   "cell_type": "markdown",
   "id": "f89bbcc5-745e-4a2e-b836-3eec245668be",
   "metadata": {},
   "source": [
    "6-8"
   ]
  },
  {
   "cell_type": "markdown",
   "id": "8a53c6c5-4c9e-454d-afbb-30dfdec13ee5",
   "metadata": {},
   "source": []
  },
  {
   "cell_type": "markdown",
   "id": "23219905-73e0-4a3e-8ed7-c2f75ddd9ce2",
   "metadata": {},
   "source": [
    "My Title\n"
   ]
  },
  {
   "cell_type": "code",
   "execution_count": null,
   "id": "df49c64c-d56c-4295-b227-76b4be0508da",
   "metadata": {},
   "outputs": [],
   "source": []
  }
 ],
 "metadata": {
  "kernelspec": {
   "display_name": "Python",
   "language": "python",
   "name": "conda-env-python-py"
  },
  "language_info": {
   "codemirror_mode": {
    "name": "ipython",
    "version": 3
   },
   "file_extension": ".py",
   "mimetype": "text/x-python",
   "name": "python",
   "nbconvert_exporter": "python",
   "pygments_lexer": "ipython3",
   "version": "3.7.12"
  }
 },
 "nbformat": 4,
 "nbformat_minor": 5
}
