{
  "nbformat": 4,
  "nbformat_minor": 0,
  "metadata": {
    "colab": {
      "provenance": []
    },
    "kernelspec": {
      "name": "python3",
      "display_name": "Python 3"
    },
    "language_info": {
      "name": "python"
    },
    "accelerator": "GPU",
    "gpuClass": "standard"
  },
  "cells": [
    {
      "cell_type": "code",
      "execution_count": 1,
      "metadata": {
        "id": "EpgBMhmPJhPg"
      },
      "outputs": [],
      "source": [
        "import os \n",
        "os.environ ['KAGGLE_CONFIG_DIR'] = \"/content\""
      ]
    },
    {
      "cell_type": "code",
      "source": [
        "!kaggle datasets download -d pranavsubramaniam/cancerhistopathology"
      ],
      "metadata": {
        "colab": {
          "base_uri": "https://localhost:8080/"
        },
        "id": "YxC3Ohq1Jntj",
        "outputId": "154c5acd-6c49-4b1c-9997-9276e5d22c76"
      },
      "execution_count": 2,
      "outputs": [
        {
          "output_type": "stream",
          "name": "stdout",
          "text": [
            "Warning: Your Kaggle API key is readable by other users on this system! To fix this, you can run 'chmod 600 /content/kaggle.json'\n",
            "Downloading cancerhistopathology.zip to /content\n",
            " 99% 1.53G/1.55G [00:20<00:00, 117MB/s]\n",
            "100% 1.55G/1.55G [00:20<00:00, 80.4MB/s]\n"
          ]
        }
      ]
    },
    {
      "cell_type": "code",
      "source": [
        "import zipfile\n",
        "with zipfile.ZipFile(\"./cancerhistopathology.zip\", 'r') as zip_ref:\n",
        "    zip_ref.extractall(\"./cancer\")"
      ],
      "metadata": {
        "id": "0_hY52-zJx5t"
      },
      "execution_count": 3,
      "outputs": []
    },
    {
      "cell_type": "code",
      "source": [
        "# test harness for evaluating models on the cifar10 dataset\n",
        "import sys, os\n",
        "os.environ['TF_CPP_MIN_LOG_LEVEL'] = '3'\n",
        "import pandas as pd, tensorflow as tf\n",
        "from matplotlib import pyplot\n",
        "from sklearn.model_selection import train_test_split\n",
        "from keras.preprocessing.image import ImageDataGenerator\n",
        "from keras.models import Sequential\n",
        "from keras.layers import Conv2D, MaxPooling2D, Dense, Flatten, Dropout\n",
        "from tensorflow.keras.optimizers import Adam, SGD\n",
        "\n",
        "\n",
        "TRAIN_BATCH_SIZE=512\n",
        "TEST1_BATCH_SIZE=TRAIN_BATCH_SIZE//2\n",
        "NUM_EPOCHS=20\n",
        "datadir=''\n",
        "class0=''\n",
        "class1=''"
      ],
      "metadata": {
        "id": "ojyqAeBQJ3u7"
      },
      "execution_count": 35,
      "outputs": []
    },
    {
      "cell_type": "code",
      "source": [
        "# PRINT SYSTEM INFORMATION\n",
        "# Tensor Flow Version, Check for Cuda, GPU\n",
        "def sys_info():\n",
        "    print (80 * '*')\n",
        "    print(\"TF-VERSION   = \", tf.__version__)\n",
        "    print(\"Builtin CUDA = \", tf.test.is_built_with_cuda())\n",
        "    print(\"Builtin GPU  = \", tf.test.is_built_with_gpu_support())\n",
        "    print(\"Config CPU   = \", tf.config.list_physical_devices('CPU'))\n",
        "    print(\"Config GPU   = \", tf.config.list_physical_devices('GPU'))\n",
        "    print(\"Num GPUs Available: \", len(tf.config.list_physical_devices('GPU')))\n",
        "    print (80 * '*')\n",
        "\n",
        "sys_info()"
      ],
      "metadata": {
        "colab": {
          "base_uri": "https://localhost:8080/"
        },
        "id": "2LXQ-JkJJ9Z3",
        "outputId": "8d4fd2a8-67d4-4e7e-a4af-51b939959a38"
      },
      "execution_count": 36,
      "outputs": [
        {
          "output_type": "stream",
          "name": "stdout",
          "text": [
            "********************************************************************************\n",
            "TF-VERSION   =  2.9.2\n",
            "Builtin CUDA =  True\n",
            "Builtin GPU  =  True\n",
            "Config CPU   =  [PhysicalDevice(name='/physical_device:CPU:0', device_type='CPU')]\n",
            "Config GPU   =  [PhysicalDevice(name='/physical_device:GPU:0', device_type='GPU')]\n",
            "Num GPUs Available:  1\n",
            "********************************************************************************\n"
          ]
        }
      ]
    },
    {
      "cell_type": "code",
      "source": [
        "# LOAD THE DATA SET FILENAMES along with labels (BINARY CLASSIFICATION)\n",
        "def load_dataset(base_dir):\n",
        "    pics = os.listdir(base_dir)\n",
        "    data = pd.DataFrame(pics)\n",
        "    data = data.rename(columns={0:'image'})\n",
        "    data['image'] = data['image'].apply(lambda x: base_dir + x)\n",
        "    data['class'] = data['image'].apply(\n",
        "        lambda x: class1 if class1 in x else class0)\n",
        "#lambda x: class1 if class1 in x else class0 if class0 in x else 'valid')\n",
        "    return data"
      ],
      "metadata": {
        "id": "bLm49ZAEKESG"
      },
      "execution_count": 37,
      "outputs": []
    },
    {
      "cell_type": "code",
      "source": [
        "def split_data(train_df):\n",
        "# Split the images in the ratio 80%, 20% as training data and validation data\n",
        "    train_data, valid_data = train_test_split(train_df,\n",
        "            test_size = 0.2,\n",
        "            #stratify = train_df['class'],\n",
        "            random_state = 666)\n",
        "# Define the transformation that are to be applied for train data\n",
        "    train_datagen = ImageDataGenerator(\n",
        "        rescale=1./255,\n",
        "        shear_range=0.2,\n",
        "        zoom_range=0.2,\n",
        "        horizontal_flip=True)\n",
        "# Define the transformation that are to be applied for validation data\n",
        "    valid_datagen = ImageDataGenerator(rescale=1./255)\n",
        "\n",
        "# Create datagenerator for training images using the train_data\n",
        "    train_im = train_datagen.flow_from_dataframe (\n",
        "        dataframe=train_data,\n",
        "        x_col='image',\n",
        "        y_col='class',\n",
        "        target_size=(50, 50),\n",
        "        batch_size=TRAIN_BATCH_SIZE,\n",
        "        color_mode='rgb',\n",
        "        class_mode='categorical',\n",
        "        seed=666,\n",
        "        )\n",
        "# Create datagenerator for validation images using the valid_data \n",
        "    valid_im = valid_datagen.flow_from_dataframe (\n",
        "        dataframe=valid_data,\n",
        "        x_col='image',\n",
        "        y_col='class',\n",
        "        target_size=(50, 50),\n",
        "        color_mode='rgb',\n",
        "        class_mode='categorical',\n",
        "        batch_size=TRAIN_BATCH_SIZE,\n",
        "        shuffle=False,\n",
        "        seed=666,\n",
        "        )\n",
        "    print (\"LEN1 = %d LEN2 = %d \" % (len (train_im), len(valid_im)))\n",
        "    return train_im, valid_im"
      ],
      "metadata": {
        "id": "ZQCkaZDNKJdg"
      },
      "execution_count": 38,
      "outputs": []
    },
    {
      "cell_type": "code",
      "source": [
        "# plot diagnostic learning curves\n",
        "def summarize_diagnostics(history):\n",
        "\t# plot loss\n",
        "\tpyplot.subplot(211)\n",
        "\tpyplot.title('Cross Entropy Loss')\n",
        "\tpyplot.plot(history.history['loss'], color='blue', label='train')\n",
        "\tpyplot.plot(history.history['val_loss'], color='orange', label='test')\n",
        "\t# plot accuracy\n",
        "\tpyplot.subplot(212)\n",
        "\tpyplot.title('Classification Accuracy')\n",
        "\tpyplot.plot(history.history['accuracy'], color='blue', label='train')\n",
        "\tpyplot.plot(history.history['val_accuracy'], color='orange', label='test')\n",
        "    # TEST\n",
        "\tfileName = datadir + \"_plot.png\"\n",
        "\tpyplot.savefig(fileName)\n",
        "\tpyplot.show()\n",
        "\t#pyplot.imshow (fileName)\n"
      ],
      "metadata": {
        "id": "Jv6YqWoI5RWh"
      },
      "execution_count": 48,
      "outputs": []
    },
    {
      "cell_type": "code",
      "source": [
        "def define_model():\n",
        "    model = tf.keras.models.Sequential([\n",
        "      tf.keras.layers.Conv2D(\n",
        "          32,(3,3),activation='relu',input_shape=(50,50,3)),\n",
        "      tf.keras.layers.MaxPooling2D(2,2),\n",
        "      tf.keras.layers.BatchNormalization(),\n",
        "\n",
        "      tf.keras.layers.Conv2D(32,(2,2),activation='relu'),\n",
        "      tf.keras.layers.MaxPooling2D(2,2),\n",
        "      #tf.keras.layers.Dropout(0.3),\n",
        "\n",
        "      tf.keras.layers.Conv2D(64,(2,2),activation='relu'),\n",
        "      tf.keras.layers.MaxPooling2D(2,2),\n",
        "      #tf.keras.layers.Dropout(0.3),\n",
        "\n",
        "      tf.keras.layers.Conv2D(128,(2,2),activation='relu'),\n",
        "      tf.keras.layers.MaxPooling2D(2,2),\n",
        "      #tf.keras.layers.Dropout(0.4),\n",
        "\n",
        "      tf.keras.layers.Flatten(),\n",
        "      tf.keras.layers.Softmax(1),\n",
        "      tf.keras.layers.Dense(1024,activation='relu'),\n",
        "      tf.keras.layers.Dense(512,activation='relu'),\n",
        "      tf.keras.layers.Dense(256,activation='relu'),\n",
        "      tf.keras.layers.Dense(2,activation='sigmoid'),\n",
        "    ])\n",
        "\n",
        "    run_opts = tf.compat.v1.RunOptions(\n",
        "            report_tensor_allocations_upon_oom = True)\n",
        "    model.compile(\n",
        "        optimizer='adam',\n",
        "        #loss='categorical_crossentropy',\n",
        "        loss='binary_crossentropy',\n",
        "        metrics=['accuracy'],\n",
        "        #options=run_opts\n",
        "        )\n",
        "\n",
        "    return model"
      ],
      "metadata": {
        "id": "P4iwII5oKVpe"
      },
      "execution_count": 49,
      "outputs": []
    },
    {
      "cell_type": "code",
      "source": [
        "# run the test harness for evaluating a model\n",
        "def run_test_harness():\n",
        "    train_df = load_dataset(datadir + \"/train/\")\n",
        "    valid_df = load_dataset(datadir + \"/valid\")\n",
        "#####################################################\n",
        "# COMMENT THE LINE BELOW TO RUN FOR ALL IMAGES      #\n",
        "# 20000 images : split as 16000 : 4000 80%:20%      #\n",
        "# 16000 / TRAIN_BATCH_SIZE will be the no. of steps #\n",
        "# i.e., 125 steps * 128 (TRAIN_BATCH_SIZE) = 16000  #\n",
        "#####################################################\n",
        "#    train_df = train_df [:500]\n",
        "    print (\"TOTAL IMAGES = %d\\n\" % len(train_df), train_df)\n",
        "    train_im, valid_im = split_data (train_df)\n",
        "    print (\"TRAIN_IMAGES = %d (x %d)\" % (len(train_im), TRAIN_BATCH_SIZE))\n",
        "    print (\"VALID_IMAGES = %d (x %d)\" % (len(valid_im), TRAIN_BATCH_SIZE))\n",
        "    model = define_model()\n",
        "    model.summary()\n",
        "    history = model.fit(\n",
        "            train_im,\n",
        "            validation_data=valid_im,\n",
        "            callbacks=[\n",
        "            tf.keras.callbacks.EarlyStopping(\n",
        "                monitor='val_loss',\n",
        "                patience=3,\n",
        "                restore_best_weights=True\n",
        "            ),\n",
        "            tf.keras.callbacks.ReduceLROnPlateau(\n",
        "                monitor='val_loss',\n",
        "                patience=3\n",
        "            )\n",
        "            ],\n",
        "            #steps_per_epoch=len(train_im),\n",
        "            #batch_size=TRAIN_BATCH_SIZE,\n",
        "            epochs=NUM_EPOCHS,\n",
        "            verbose=True,\n",
        "        )\n",
        "\n",
        "    # evaluate the model\n",
        "    scores = model.evaluate(valid_im, steps=len(valid_im), verbose=5)\n",
        "    print(\"%s: %.2f%%\" % (model.metrics_names[1], scores[1]*100))\n",
        "    # save model and architecture to single file\n",
        "    modelName=datadir\n",
        "    model.save(modelName + \".h5\")\n",
        "    print(\"Saved model \" + modelName + \" to disk\")\n",
        "\t# learning curves\n",
        "    summarize_diagnostics(history)\n",
        "    \n",
        "#datadir='PetsImages'\n",
        "#class0='cat'\n",
        "#class1='dog'\n",
        "datadir='./cancer/PathImages/'\n",
        "class0='class0'\n",
        "class1='class1'\n",
        "args = sys.argv [1:]\n",
        "if (len (args) == 3):\n",
        "    print (args)\n",
        "    datadir=args[0]\n",
        "    class0=args[1]\n",
        "    class1=args[2]\n",
        "sys_info()\n",
        "run_test_harness()    "
      ],
      "metadata": {
        "colab": {
          "base_uri": "https://localhost:8080/",
          "height": 1000
        },
        "id": "b0sR9DxlKX1u",
        "outputId": "0bf87ab7-7a84-4764-8eba-e83a2edca788"
      },
      "execution_count": 50,
      "outputs": [
        {
          "output_type": "stream",
          "name": "stdout",
          "text": [
            "********************************************************************************\n",
            "TF-VERSION   =  2.9.2\n",
            "Builtin CUDA =  True\n",
            "Builtin GPU  =  True\n",
            "Config CPU   =  [PhysicalDevice(name='/physical_device:CPU:0', device_type='CPU')]\n",
            "Config GPU   =  [PhysicalDevice(name='/physical_device:GPU:0', device_type='GPU')]\n",
            "Num GPUs Available:  1\n",
            "********************************************************************************\n",
            "TOTAL IMAGES = 222019\n",
            "                                                     image   class\n",
            "0       ./cancer/PathImages//train/10308_idx5_x2401_y1...  class0\n",
            "1       ./cancer/PathImages//train/9345_idx5_x2501_y70...  class1\n",
            "2       ./cancer/PathImages//train/10303_idx5_x1201_y1...  class0\n",
            "3       ./cancer/PathImages//train/10278_idx5_x1001_y8...  class0\n",
            "4       ./cancer/PathImages//train/12906_idx5_x2151_y1...  class1\n",
            "...                                                   ...     ...\n",
            "222014  ./cancer/PathImages//train/9267_idx5_x501_y110...  class0\n",
            "222015  ./cancer/PathImages//train/12910_idx5_x2201_y1...  class0\n",
            "222016  ./cancer/PathImages//train/9324_idx5_x1601_y12...  class0\n",
            "222017  ./cancer/PathImages//train/8957_idx5_x1701_y70...  class1\n",
            "222018  ./cancer/PathImages//train/16551_idx5_x1251_y2...  class0\n",
            "\n",
            "[222019 rows x 2 columns]\n",
            "Found 177615 validated image filenames belonging to 2 classes.\n",
            "Found 44404 validated image filenames belonging to 2 classes.\n",
            "LEN1 = 347 LEN2 = 87 \n",
            "TRAIN_IMAGES = 347 (x 512)\n",
            "VALID_IMAGES = 87 (x 512)\n",
            "Model: \"sequential_5\"\n",
            "_________________________________________________________________\n",
            " Layer (type)                Output Shape              Param #   \n",
            "=================================================================\n",
            " conv2d_20 (Conv2D)          (None, 48, 48, 32)        896       \n",
            "                                                                 \n",
            " max_pooling2d_20 (MaxPoolin  (None, 24, 24, 32)       0         \n",
            " g2D)                                                            \n",
            "                                                                 \n",
            " batch_normalization_5 (Batc  (None, 24, 24, 32)       128       \n",
            " hNormalization)                                                 \n",
            "                                                                 \n",
            " conv2d_21 (Conv2D)          (None, 23, 23, 32)        4128      \n",
            "                                                                 \n",
            " max_pooling2d_21 (MaxPoolin  (None, 11, 11, 32)       0         \n",
            " g2D)                                                            \n",
            "                                                                 \n",
            " conv2d_22 (Conv2D)          (None, 10, 10, 64)        8256      \n",
            "                                                                 \n",
            " max_pooling2d_22 (MaxPoolin  (None, 5, 5, 64)         0         \n",
            " g2D)                                                            \n",
            "                                                                 \n",
            " conv2d_23 (Conv2D)          (None, 4, 4, 128)         32896     \n",
            "                                                                 \n",
            " max_pooling2d_23 (MaxPoolin  (None, 2, 2, 128)        0         \n",
            " g2D)                                                            \n",
            "                                                                 \n",
            " flatten_5 (Flatten)         (None, 512)               0         \n",
            "                                                                 \n",
            " softmax_5 (Softmax)         (None, 512)               0         \n",
            "                                                                 \n",
            " dense_20 (Dense)            (None, 1024)              525312    \n",
            "                                                                 \n",
            " dense_21 (Dense)            (None, 512)               524800    \n",
            "                                                                 \n",
            " dense_22 (Dense)            (None, 256)               131328    \n",
            "                                                                 \n",
            " dense_23 (Dense)            (None, 2)                 514       \n",
            "                                                                 \n",
            "=================================================================\n",
            "Total params: 1,228,258\n",
            "Trainable params: 1,228,194\n",
            "Non-trainable params: 64\n",
            "_________________________________________________________________\n",
            "Epoch 1/20\n",
            "347/347 [==============================] - 216s 620ms/step - loss: 0.4033 - accuracy: 0.8216 - val_loss: 1.8532 - val_accuracy: 0.2815 - lr: 0.0010\n",
            "Epoch 2/20\n",
            "347/347 [==============================] - 210s 604ms/step - loss: 0.3379 - accuracy: 0.8552 - val_loss: 0.3520 - val_accuracy: 0.8469 - lr: 0.0010\n",
            "Epoch 3/20\n",
            "347/347 [==============================] - 211s 609ms/step - loss: 0.3232 - accuracy: 0.8625 - val_loss: 0.3808 - val_accuracy: 0.8336 - lr: 0.0010\n",
            "Epoch 4/20\n",
            "347/347 [==============================] - 210s 607ms/step - loss: 0.3154 - accuracy: 0.8659 - val_loss: 0.3426 - val_accuracy: 0.8585 - lr: 0.0010\n",
            "Epoch 5/20\n",
            "347/347 [==============================] - 209s 602ms/step - loss: 0.3077 - accuracy: 0.8690 - val_loss: 0.3164 - val_accuracy: 0.8653 - lr: 0.0010\n",
            "Epoch 6/20\n",
            "347/347 [==============================] - 212s 610ms/step - loss: 0.3022 - accuracy: 0.8714 - val_loss: 0.3630 - val_accuracy: 0.8565 - lr: 0.0010\n",
            "Epoch 7/20\n",
            "347/347 [==============================] - 215s 621ms/step - loss: 0.2988 - accuracy: 0.8735 - val_loss: 0.3755 - val_accuracy: 0.8434 - lr: 0.0010\n",
            "Epoch 8/20\n",
            "347/347 [==============================] - 214s 617ms/step - loss: 0.2938 - accuracy: 0.8757 - val_loss: 0.4086 - val_accuracy: 0.8364 - lr: 0.0010\n",
            "accuracy: 86.53%\n",
            "Saved model ./cancer/PathImages/ to disk\n"
          ]
        },
        {
          "output_type": "display_data",
          "data": {
            "text/plain": [
              "<Figure size 432x288 with 2 Axes>"
            ],
            "image/png": "[encoded data removed]"
          },
          "metadata": {
            "needs_background": "light"
          }
        }
      ]
    }
  ]
}